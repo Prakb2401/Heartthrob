{
 "cells": [
  {
   "cell_type": "code",
   "execution_count": 1,
   "id": "30c284bd",
   "metadata": {},
   "outputs": [],
   "source": [
    "import pandas as pd"
   ]
  },
  {
   "cell_type": "code",
   "execution_count": 3,
   "id": "e6ae7628",
   "metadata": {},
   "outputs": [],
   "source": [
    "csv_file = pd.read_csv(\"merge_bi.csv\")"
   ]
  },
  {
   "cell_type": "code",
   "execution_count": 4,
   "id": "7bb9bd09",
   "metadata": {},
   "outputs": [],
   "source": [
    "csv_file.to_html(\"data.html\")"
   ]
  },
  {
   "cell_type": "code",
   "execution_count": null,
   "id": "a081b766",
   "metadata": {},
   "outputs": [],
   "source": []
  }
 ],
 "metadata": {
  "kernelspec": {
   "display_name": "Python 3 (ipykernel)",
   "language": "python",
   "name": "python3"
  },
  "language_info": {
   "codemirror_mode": {
    "name": "ipython",
    "version": 3
   },
   "file_extension": ".py",
   "mimetype": "text/x-python",
   "name": "python",
   "nbconvert_exporter": "python",
   "pygments_lexer": "ipython3",
   "version": "3.9.7"
  }
 },
 "nbformat": 4,
 "nbformat_minor": 5
}
